{
 "cells": [
  {
   "cell_type": "markdown",
   "metadata": {},
   "source": [
    "# Overview of Jupyter Notebooks Applied to Generate Paper Plots "
   ]
  },
  {
   "cell_type": "markdown",
   "metadata": {},
   "source": [
    "Here, we list all jupyter notebooks that have been run to plot all figures of the paper: Senf, Quaas and Tegen, __Absorbing aerosol decreases cloud cover in cloud-resolving simulations over Germany__, under review, QJRMS\n",
    "\n",
    "Preprint is available under [https://doi.org/10.1002/essoar.10505373.1](https://doi.org/10.1002/essoar.10505373.1)."
   ]
  },
  {
   "cell_type": "markdown",
   "metadata": {},
   "source": [
    "The image are locally hosted under"
   ]
  },
  {
   "cell_type": "code",
   "execution_count": 1,
   "metadata": {},
   "outputs": [
    {
     "name": "stdout",
     "output_type": "stream",
     "text": [
      "Fig01.jpg\n",
      "Fig02.jpg\n",
      "Fig03.jpg\n",
      "Fig04.jpg\n",
      "Fig05.jpg\n",
      "Fig06.jpg\n"
     ]
    }
   ],
   "source": [
    "%%bash\n",
    "\n",
    "ls ../paper-pics/"
   ]
  },
  {
   "cell_type": "markdown",
   "metadata": {},
   "source": [
    "## Fig 1\n",
    "\n",
    "Figure 1: Domain-average radiative heating profiles at 11z (local noon). (a) Longwave  heating (LWH, solid lines) and shortwave heating (SWH, dashed line) are compared for the two sensitivity experiments \"absorbing\" (incl. aerosol absorption, thick lines) and \"scattering\" (excl. aerosol absorption, thin lines) with 312\\,m grid spacing. Heating rates are derived in clear-sky conditions, i.e. only in regions where total cloud cover is equal zero. (b) The heating rate differences between \"absorbing\" and \"scattering\" experiments are shown for 312\\,m grid spacing (orange) and 625\\,m grid spacing (blue). (c) Here, the SWH rate differences in clear-sky conditions are subtracted from SWH rate differences in certain cloudy conditions. Overcast (solid lines) refers to regions where total cloud cover averaged in 5 km sub-regions is larger than 95\\% and broken (clouds, dashed lines) refers to regions with intermediate total cloud cover values between 25 and 75\\% (again averaged in 5 km sub-regions). The light blue range indicates where a substantial amount of liquid cloud condensate is present. "
   ]
  },
  {
   "cell_type": "markdown",
   "metadata": {},
   "source": [
    "![Fig01.jpg](../paper-pics/Fig01.jpg)\n",
    "\n",
    "\n",
    "\n",
    "Single subfigures are prepared with [01-Heating_Profiles-4Pub.ipynb](01-Heating_Profiles-4Pub.ipynb). All are combined with `../tools/combine_heating_plot.sh`\n"
   ]
  },
  {
   "cell_type": "code",
   "execution_count": 3,
   "metadata": {},
   "outputs": [
    {
     "name": "stdout",
     "output_type": "stream",
     "text": [
      "#!/bin/bash\n",
      "\n",
      "\n",
      "montage -tile 3x1 -trim -geometry +150+0 heating-prof.png heating-prof-difference.png heating-prof-clouds-impact.png heating-combined.png \n"
     ]
    }
   ],
   "source": [
    "%%bash\n",
    "\n",
    "cat ../tools/combine_heating_plot.sh"
   ]
  },
  {
   "cell_type": "markdown",
   "metadata": {},
   "source": [
    "\n",
    "\n",
    "***"
   ]
  },
  {
   "cell_type": "markdown",
   "metadata": {},
   "source": [
    "## Fig 2\n",
    "\n",
    "Figure 2: Domain-average profiles of (a) temperature, (b) specific humidity and (c) cloud cover. The values are averaged for a time period of 8 to 14z. Black lines refer to the absolute values of the respective quantities of the \"scattering\" experiment as reference case for which the simulations with the two different grid spacings have been averaged. The colored lines present the absorption-induced differences between the ICON experiments (blue: 625\\,m, orange: 312\\,m). Enthalpy scaling has been applied to the temperature and humidity differences to make them comparable. The top $x$-axes provide labels for the absolute quantities, the bottom $x$-axes provide labels for the differences. The light blue range indicates liquid cloud condensate."
   ]
  },
  {
   "cell_type": "markdown",
   "metadata": {},
   "source": [
    "![Fig02.jpg](../paper-pics/Fig02.jpg)\n",
    "\n",
    "Single subfigures are prepared with [05-Average-TD-profiles.ipynb](05-Average-TD-profiles.ipynb). All are combined with `../tools/combine_profiles.sh`\n",
    "\n",
    "\n"
   ]
  },
  {
   "cell_type": "code",
   "execution_count": 7,
   "metadata": {},
   "outputs": [
    {
     "name": "stdout",
     "output_type": "stream",
     "text": [
      "#!/bin/bash\n",
      "\n",
      "\n",
      "# montage -tile 3x1 -trim -geometry +150+0 prof-cc.png  prof-qv.png  prof-temp.png average_profiles.png\n",
      "\n",
      "convert prof-temp.png prof-qv.png prof-cc.png +append average_profiles.png\n"
     ]
    }
   ],
   "source": [
    "%%bash\n",
    "\n",
    "cat ../tools/combine_profiles.sh"
   ]
  },
  {
   "cell_type": "markdown",
   "metadata": {},
   "source": [
    "***"
   ]
  },
  {
   "cell_type": "markdown",
   "metadata": {},
   "source": [
    "## Fig 3\n",
    "\n",
    "Figure 3: Overview of the evolution of low-level cloud cover and resulting changes in shortwave radiation fluxes at the surface. The full time series of (a) low-level cloud cover anomaly and (b) the net  shortwave radiation flux anomalies at the surface (sum of up- and downwelling components) are presented for 312 m (orange) and 625 m (blue) grid spacing. Sunrise and sunset are marked by light yellow vertical lines. The bottom row provides an overview of the cloud scenery and resulting anomalies for 312 m and 11z. (c) The low-level cloud cover ($\\mathrm{CC_{low}}$) reference is taken from the \"scattering\" experiment. Coastlines and country borders are outlined in yellow. The anomalies of (d) low-level cloud cover anomaly $\\Delta\\mathrm{CC_{low}}$ and (e) net shortwave radiation at the surface have been smoothed with a Gaussian filter of width 2 to improve visibility. The $95\\%$-contour of the $\\mathrm{CC_{low}}$ reference is shown in (d) and (e) as black line. "
   ]
  },
  {
   "cell_type": "markdown",
   "metadata": {},
   "source": [
    "![Fig03.jpg](../paper-pics/Fig03.jpg)\n",
    "\n",
    "Single subfigures are prepared with [02-Cloud_Cover_Reduction_and_Time_Series-4Pub.ipynb](02-Cloud_Cover_Reduction_and_Time_Series-4Pub.ipynb). All are combined with `../tools/combine_tseries-with-maps.sh`\n"
   ]
  },
  {
   "cell_type": "code",
   "execution_count": 8,
   "metadata": {},
   "outputs": [
    {
     "name": "stdout",
     "output_type": "stream",
     "text": [
      "#!/bin/bash\n",
      "\n",
      "\n",
      "convert tseries_cc_sob_s.png cc-sob_fields_11z.png -append tseries_and_maps.png\n",
      "\n"
     ]
    }
   ],
   "source": [
    "%%bash\n",
    "\n",
    "cat ../tools/combine_tseries-with-maps.sh"
   ]
  },
  {
   "cell_type": "markdown",
   "metadata": {},
   "source": [
    "***"
   ]
  },
  {
   "cell_type": "markdown",
   "metadata": {},
   "source": [
    "## Fig 4\n",
    "\n",
    "Figure 4: Assessing direct vs. semi-direct aerosol effects based on planetary albedo $\\alpha$ and total cloud cover $\\mathrm{CC_{tot}}$. Colored symbols represent instantaneous pairs of total cloud cover and planetary albedo (stars: \"scattering\", circles: \"absorbing\") between 8 and 14z with a time interval of 15~min. The colors change from 8z (purple) to 11z (blue) and 14z (yellow). The tilted dark gray lines indicate linear regression results and the thick light gray lines show the mean values for planetary albedo (horizontal lines) and total cloud cover (vertical lines) for \"scattering\" (solid) and \"absorbing\" (dashed) experiments. The difference between the thick and the thin light gray line (horizontal, solid) indicates how much the planetary albedo is lowered by reducing the cloud amount from the \"scattering\" to the \"absorbing\" experiment. It is found by following the solid regression line from the crossing of two thick light gray lines to the vertical dashed light gray line. Only the 625 m simulation is shown here. "
   ]
  },
  {
   "cell_type": "markdown",
   "metadata": {},
   "source": [
    "![Fig04.jpg](../paper-pics/Fig04.jpg)\n",
    "\n",
    "derived from [06-Albedo-vs-CloudCover-Plot.ipynb](06-Albedo-vs-CloudCover-Plot.ipynb)\n",
    "***"
   ]
  },
  {
   "cell_type": "markdown",
   "metadata": {},
   "source": [
    "## Fig 5\n",
    "\n",
    "Figure 5: Analysis of the LWP fields. Panels (a) and (b) provide LWP probability density functions (LWP is denoted as $Q_c$ in the figure labels and formulas) and the contribution of a $\\ln(Q_c)$-interval to the total, domain-average, respectively. The function $P$ defines the probability that $Q_c$ falls into the interval $\\ln Q_c \\pm d\\ln Q_c/2$. Thick lines represent temporal averages between 8 and 11z, thin lines represent averages between 11 and 14z. The black lines are obtained by averaging the two ICON setups (\"absorbing\", \"scattering\") and the two different horizontal resolutions. The colored lines show the difference between the \"absorbing\" and the \"scattering\" experiments separately for different resolutions and scaled by a factor of 100 to improve depiction. The vertical dashed line marks the threshold of $Q_c$ = 200\\,gm${}^{-2}$ which was taken to derived size statistics in panel (c). Therein, the difference (\"absorbing\" vs. \"scattering\") in fractional area covered by different cell sizes is plotted as function of time."
   ]
  },
  {
   "cell_type": "markdown",
   "metadata": {},
   "source": [
    "![Fig05.jpg](../paper-pics/Fig05.jpg)\n",
    "\n",
    "Subfigures in the upper row are derived with [03-LWP-Distribution_and_Contribution.ipynb](03-LWP-Distribution_and_Contribution.ipynb)\n",
    "\n",
    "The subfigure in the lower row originates from [04-Size_Resolved_LWP-Changes.ipynb](04-Size_Resolved_LWP-Changes.ipynb)\n",
    "\n",
    "Both are combined with `combine_lwp_analysis.sh`"
   ]
  },
  {
   "cell_type": "code",
   "execution_count": 9,
   "metadata": {},
   "outputs": [
    {
     "name": "stdout",
     "output_type": "stream",
     "text": [
      "#!/bin/bash\n",
      "\n",
      "\n",
      "convert lwp-changes.png frac-cellsize-change_LWP200.png -append lwp_analysis.png\n",
      "\n"
     ]
    }
   ],
   "source": [
    "%%bash\n",
    "\n",
    "cat ../tools/combine_lwp_analysis.sh"
   ]
  },
  {
   "cell_type": "markdown",
   "metadata": {},
   "source": [
    "***"
   ]
  },
  {
   "cell_type": "markdown",
   "metadata": {},
   "source": [
    "## Fig 6\n",
    "\n",
    "Figure 6: Contributions to excess water transfer at the surface. Differences (\"absorbing\" vs. \"scattering\") in accumulated precipitation (dashed lines) are compared to differences in accumulated water fluxes from evaporation (thin solid lines) for grid spacings of 312\\,m (orange) and 625\\,m (blue). The difference between evaporation and precipitation is shown with thick solid lines."
   ]
  },
  {
   "cell_type": "markdown",
   "metadata": {},
   "source": [
    "![Fig06.jpg](../paper-pics/Fig06.jpg)\n",
    "\n",
    "\n",
    "derived from [07-Precip-vs-Evaporation-at-Surface.ipynb](07-Precip-vs-Evaporation-at-Surface.ipynb).\n",
    "\n",
    "***"
   ]
  }
 ],
 "metadata": {
  "kernelspec": {
   "display_name": "Python 3.7 Local Env",
   "language": "python",
   "name": "python3.7-local"
  },
  "language_info": {
   "codemirror_mode": {
    "name": "ipython",
    "version": 3
   },
   "file_extension": ".py",
   "mimetype": "text/x-python",
   "name": "python",
   "nbconvert_exporter": "python",
   "pygments_lexer": "ipython3",
   "version": "3.7.7"
  }
 },
 "nbformat": 4,
 "nbformat_minor": 2
}
