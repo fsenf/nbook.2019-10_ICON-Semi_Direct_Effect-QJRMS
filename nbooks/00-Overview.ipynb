{
 "cells": [
  {
   "cell_type": "markdown",
   "metadata": {},
   "source": [
    "# Overview of Jupyter Notebooks Applied to Generate Paper Plots "
   ]
  },
  {
   "cell_type": "markdown",
   "metadata": {},
   "source": [
    "Here, we list all jupyter notebooks that have been run to plot all figures of the paper: Senf, Quaas and Tegen, __Absorbing aerosol decreases cloud cover in cloud-resolving simulations over Germany__, under review, QJRMS\n",
    "\n",
    "Preprint is available under [https://doi.org/10.1002/essoar.10505373.1](https://doi.org/10.1002/essoar.10505373.1)."
   ]
  },
  {
   "cell_type": "markdown",
   "metadata": {},
   "source": [
    "The image are locally hosted under"
   ]
  },
  {
   "cell_type": "code",
   "execution_count": 3,
   "metadata": {},
   "outputs": [
    {
     "name": "stdout",
     "output_type": "stream",
     "text": [
      "Fig01.jpg\n",
      "Fig02.jpg\n",
      "Fig03.jpg\n",
      "Fig04.jpg\n",
      "Fig05.jpg\n",
      "Fig06.jpg\n",
      "Fig07.jpg\n",
      "Fig08.jpg\n"
     ]
    }
   ],
   "source": [
    "%%bash\n",
    "\n",
    "ls ../paper-pics/"
   ]
  },
  {
   "cell_type": "markdown",
   "metadata": {},
   "source": [
    "## Fig 1\n",
    "\n",
    "Figure 1: Domain-average radiative heating profiles at 11z (local noon). (a) Longwave  heating (LWH, solid lines) and shortwave heating (SWH, dashed line) are compared for the two sensitivity experiments \"absorbing\" (incl. aerosol absorption, thick lines) and \"scattering\" (excl. aerosol absorption, thin lines) with 312\\,m grid spacing. Heating rates are derived in clear-sky conditions, i.e. only in regions where total cloud cover is equal zero. (b) The heating rate differences between \"absorbing\" and \"scattering\" experiments are shown for 312\\,m grid spacing (orange) and 625\\,m grid spacing (blue). (c) Here, the SWH rate differences in clear-sky conditions are subtracted from SWH rate differences in certain cloudy conditions. Overcast (solid lines) refers to regions where total cloud cover averaged in 10 km sub-regions is larger than 95\\% and broken (clouds, dashed lines) refers to regions with intermediate total cloud cover values between 25 and 75\\% (again averaged in 10 km sub-regions). The light blue range indicates where a substantial amount of liquid cloud condensate is present. "
   ]
  },
  {
   "cell_type": "markdown",
   "metadata": {},
   "source": [
    "![Fig01.jpg](../paper-pics/Fig01.jpg)\n",
    "\n",
    "\n",
    "\n",
    "Single subfigures are prepared with [01-Heating_Profiles-4Pub.ipynb](01-Heating_Profiles-4Pub.ipynb). All are combined with `../tools/combine_heating_plot.sh`\n"
   ]
  },
  {
   "cell_type": "code",
   "execution_count": 2,
   "metadata": {},
   "outputs": [
    {
     "name": "stdout",
     "output_type": "stream",
     "text": [
      "#!/bin/bash\n",
      "\n",
      "\n",
      "montage -tile 3x1 -trim -geometry +150+0 heating-prof.png heating-prof-difference.png heating-prof-clouds-impact.png heating-combined.png \n"
     ]
    }
   ],
   "source": [
    "%%bash\n",
    "\n",
    "cat ../tools/combine_heating_plot.sh"
   ]
  },
  {
   "cell_type": "markdown",
   "metadata": {},
   "source": [
    "\n",
    "\n",
    "***"
   ]
  },
  {
   "cell_type": "markdown",
   "metadata": {},
   "source": [
    "## Fig 2\n",
    "\n",
    "Figure 2: Domain-average profiles of (a) temperature, (b) specific humidity and (c) cloud cover. The values are averaged for a time period of 8 to 14z. Black lines refer to the absolute values of the respective quantities of the \"scattering\" experiment as reference case for which the simulations with the two different grid spacings have been averaged. The coloured lines present the absorption-induced differences between the ICON experiments (blue: 625\\,m, orange: 312\\,m). Enthalpy scaling has been applied to the temperature and humidity differences to make them comparable. The top $x$-axes provide labels for the absolute quantities, the bottom $x$-axes provide labels for the differences. The light blue range indicates liquid cloud condensate."
   ]
  },
  {
   "cell_type": "markdown",
   "metadata": {},
   "source": [
    "![Fig02.jpg](../paper-pics/Fig02.jpg)\n",
    "\n",
    "Single subfigures are prepared with [05-Average-TD-profiles.ipynb](05-Average-TD-profiles.ipynb). All are combined with `../tools/combine_profiles.sh`\n",
    "\n",
    "\n"
   ]
  },
  {
   "cell_type": "code",
   "execution_count": 3,
   "metadata": {},
   "outputs": [
    {
     "name": "stdout",
     "output_type": "stream",
     "text": [
      "#!/bin/bash\n",
      "\n",
      "\n",
      "# montage -tile 3x1 -trim -geometry +150+0 prof-cc.png  prof-qv.png  prof-temp.png average_profiles.png\n",
      "\n",
      "convert prof-temp.png prof-qv.png prof-cc.png +append average_profiles.png\n"
     ]
    }
   ],
   "source": [
    "%%bash\n",
    "\n",
    "cat ../tools/combine_profiles.sh"
   ]
  },
  {
   "cell_type": "markdown",
   "metadata": {},
   "source": [
    "## Fig 3\n",
    "\n",
    "Figure 3: Profiles of (a) specific cloud water, (b) liquid water flux and (c) upward flux of vertical momentum. The profiles result from sub-domain averages with \"west\" indicating all values west of 10${}^\\circ$E and \"east\" for the remaining part. In addition, temporal averaging between 8 and 14z is applied. The black lines refer to the absolute values from reference (\"scattering\" experiment) for 312 (solid) and 625$\\,$m (dashed) grid spacing. The coloured lines present the absorption-induced anomalies (blue: 625\\,m, orange: 312\\,m). The space between profiles from identical sub-domains, but differing grid spacing is filled with green shading (dark green: west, light green: east) to visualise the spread due to resolution sensitivity."
   ]
  },
  {
   "cell_type": "markdown",
   "metadata": {},
   "source": [
    "![Fig03.jpg](../paper-pics/Fig03.jpg)\n",
    "\n",
    "Single subfigures are prepared with [09-Profiles_for_East_and_West.ipynb](09-Profiles_for_East_and_West.ipynb). All are combined with `../tools/combine_west_east.sh`\n",
    "\n",
    "\n"
   ]
  },
  {
   "cell_type": "code",
   "execution_count": 4,
   "metadata": {},
   "outputs": [
    {
     "name": "stdout",
     "output_type": "stream",
     "text": [
      "#!/bin/bash\n",
      "\n",
      "\n",
      "# montage -tile 3x1 -trim -geometry +150+0 prof-cc.png  prof-qv.png  prof-temp.png average_profiles.png\n",
      "\n",
      "convert west-east_qc.png  west-east_Fqc.png  west-east_Fw.png +append west-east.png\n"
     ]
    }
   ],
   "source": [
    "%%bash\n",
    "\n",
    "cat ../tools/combine_west_east.sh"
   ]
  },
  {
   "cell_type": "markdown",
   "metadata": {},
   "source": [
    "***"
   ]
  },
  {
   "cell_type": "markdown",
   "metadata": {},
   "source": [
    "## Fig 4\n",
    "\n",
    "Figure 4: Overview of the evolution of low-level cloud cover and resulting changes in shortwave radiation fluxes at the surface. The full time series of (a) low-level cloud cover anomaly and (b) the net  shortwave radiation flux anomalies at the surface (sum of up- and downwelling components) are presented for 312 m (orange) and 625 m (blue) grid spacing. Sunrise and sunset are marked by light yellow vertical lines. The bottom row provides an overview of the cloud scenery and resulting anomalies for 312 m and 11z. (c) The low-level cloud cover ($\\mathrm{CC_{low}}$) reference is taken from the \"scattering\" experiment. Coastlines and country borders are outlined in yellow. The anomalies of (d) low-level cloud cover anomaly $\\Delta\\mathrm{CC_{low}}$ and (e) net shortwave radiation at the surface have been smoothed with a Gaussian filter of width 2 to improve visibility. The $95\\%$-contour of the $\\mathrm{CC_{low}}$ reference is shown in (d) and (e) as black line. "
   ]
  },
  {
   "cell_type": "markdown",
   "metadata": {},
   "source": [
    "![Fig04.jpg](../paper-pics/Fig04.jpg)\n",
    "\n",
    "Single subfigures are prepared with [02-Cloud_Cover_Reduction_and_Time_Series-4Pub.ipynb](02-Cloud_Cover_Reduction_and_Time_Series-4Pub.ipynb). All are combined with `../tools/combine_tseries-with-maps.sh`\n"
   ]
  },
  {
   "cell_type": "code",
   "execution_count": 5,
   "metadata": {},
   "outputs": [
    {
     "name": "stdout",
     "output_type": "stream",
     "text": [
      "#!/bin/bash\n",
      "\n",
      "\n",
      "convert tseries_cc_sob_s.png cc-sob_fields_11z.png -append tseries_and_maps.png\n",
      "\n"
     ]
    }
   ],
   "source": [
    "%%bash\n",
    "\n",
    "cat ../tools/combine_tseries-with-maps.sh"
   ]
  },
  {
   "cell_type": "markdown",
   "metadata": {},
   "source": [
    "***"
   ]
  },
  {
   "cell_type": "markdown",
   "metadata": {},
   "source": [
    "## Fig 5\n",
    "\n",
    "Figure 5: Dependency of (a) low-level cloud cover, (b) liquid water path, (c) direct downwelling shortwave radiation flux at surface, (d) diffuse downwelling shortwave radiation flux at surface and (e) shortwave TOA net flux on lower tropospheric stability (LST). LST is defined as difference between virtual potential temperatures at model levels $l=150$ (lower most level) and $l=110$ (at around 720 hPa). Data have been binned in 2K-intervals starting at $\\mathrm{LTS}= 5$~K and the chosen range includes 92\\,\\% of all data. Only domain averages are plotted at the interval mid-point. Black lines refer to the absolute values of the respective quantities of the \"scattering\" experiment as reference case for which the simulations with the two different grid spacings have been averaged ($y$-axis is placed on the right side). The coloured lines present the absorption-induced differences between the ICON experiments (blue: 625\\,m, orange: 312\\,m) with the $y$-axis placed on the left side."
   ]
  },
  {
   "cell_type": "markdown",
   "metadata": {},
   "source": [
    "![Fig05.jpg](../paper-pics/Fig05.jpg)\n",
    "\n",
    "Figure is prepared with [08-Plot_LTS_Relationships.ipynb](08-Plot_LTS_Relationships.ipynb).\n"
   ]
  },
  {
   "cell_type": "markdown",
   "metadata": {},
   "source": [
    "***"
   ]
  },
  {
   "cell_type": "markdown",
   "metadata": {},
   "source": [
    "## Fig 6\n",
    "\n",
    "Figure 6: Assessing direct vs. semi-direct aerosol effects based on planetary albedo $\\alpha$ and total cloud cover $\\mathrm{CC_{tot}}$. Coloured symbols represent instantaneous pairs of total cloud cover and planetary albedo (stars: \"scattering\", circles: \"absorbing\") between 8 and 14z with a time interval of 15~min. The colours change from 8z (purple) to 11z (blue) and 14z (yellow). The tilted dark grey lines indicate linear regression results and the thick light grey lines show the mean values for planetary albedo (horizontal lines) and total cloud cover (vertical lines) for \"scattering\" (solid) and \"absorbing\" (dashed) experiments. The difference between the thick and the thin light grey line (horizontal, solid) indicates how much the planetary albedo is lowered by reducing the cloud amount from the \"scattering\" to the \"absorbing\" experiment. It is found by following the solid regression line from the crossing of two thick light grey lines to the vertical dashed light grey line. Only the 625 m simulation is shown here. "
   ]
  },
  {
   "cell_type": "markdown",
   "metadata": {},
   "source": [
    "![Fig06.jpg](../paper-pics/Fig06.jpg)\n",
    "\n",
    "derived from [06-Albedo-vs-CloudCover-Plot.ipynb](06-Albedo-vs-CloudCover-Plot.ipynb)\n",
    "***"
   ]
  },
  {
   "cell_type": "markdown",
   "metadata": {},
   "source": [
    "## Fig 7\n",
    "\n",
    "Figure 7: Assessing direct vs. semi-direct aerosol effects based on planetary albedo $\\alpha$ and total cloud cover $\\mathrm{CC_{tot}}$. Coloured symbols represent instantaneous pairs of total cloud cover and planetary albedo (stars: \"scattering\", circles: \"absorbing\") between 8 and 14z with a time interval of 15~min. The colours change from 8z (purple) to 11z (blue) and 14z (yellow). The tilted dark grey lines indicate linear regression results and the thick light grey lines show the mean values for planetary albedo (horizontal lines) and total cloud cover (vertical lines) for \"scattering\" (solid) and \"absorbing\" (dashed) experiments. The difference between the thick and the thin light grey line (horizontal, solid) indicates how much the planetary albedo is lowered by reducing the cloud amount from the \"scattering\" to the \"absorbing\" experiment. It is found by following the solid regression line from the crossing of two thick light grey lines to the vertical dashed light grey line. Only the 625 m simulation is shown here. "
   ]
  },
  {
   "cell_type": "markdown",
   "metadata": {},
   "source": [
    "![Fig07.jpg](../paper-pics/Fig07.jpg)\n",
    "\n",
    "Subfigures in the upper row are derived with [03-LWP-Distribution_and_Contribution.ipynb](03-LWP-Distribution_and_Contribution.ipynb)\n",
    "\n",
    "The subfigure in the lower row originates from [04-Size_Resolved_LWP-Changes.ipynb](04-Size_Resolved_LWP-Changes.ipynb)\n",
    "\n",
    "Both are combined with `combine_lwp_analysis.sh`"
   ]
  },
  {
   "cell_type": "code",
   "execution_count": 6,
   "metadata": {},
   "outputs": [
    {
     "name": "stdout",
     "output_type": "stream",
     "text": [
      "#!/bin/bash\n",
      "\n",
      "\n",
      "convert lwp-changes.png frac-cellsize-change_LWP200.png -append lwp_analysis.png\n",
      "\n"
     ]
    }
   ],
   "source": [
    "%%bash\n",
    "\n",
    "cat ../tools/combine_lwp_analysis.sh"
   ]
  },
  {
   "cell_type": "markdown",
   "metadata": {},
   "source": [
    "***"
   ]
  },
  {
   "cell_type": "markdown",
   "metadata": {},
   "source": [
    "## Fig 8\n",
    "\n",
    "Figure 8: Contributions to excess water transfer at the surface. Differences (\"absorbing\" vs. \"scattering\") in accumulated precipitation (dashed lines) are compared to differences in accumulated water fluxes from evaporation (thin solid lines) for grid spacings of 312\\,m (orange) and 625\\,m (blue). Accumulations start at 8z. The difference between evaporation and precipitation is shown with thick solid lines."
   ]
  },
  {
   "cell_type": "markdown",
   "metadata": {},
   "source": [
    "![Fig08.jpg](../paper-pics/Fig08.jpg)\n",
    "\n",
    "\n",
    "derived from [07-Precip-vs-Evaporation-at-Surface.ipynb](07-Precip-vs-Evaporation-at-Surface.ipynb).\n",
    "\n",
    "***"
   ]
  }
 ],
 "metadata": {
  "kernelspec": {
   "display_name": "Python 3.7 Local Env",
   "language": "python",
   "name": "python3.7-local"
  },
  "language_info": {
   "codemirror_mode": {
    "name": "ipython",
    "version": 3
   },
   "file_extension": ".py",
   "mimetype": "text/x-python",
   "name": "python",
   "nbconvert_exporter": "python",
   "pygments_lexer": "ipython3",
   "version": "3.7.8"
  }
 },
 "nbformat": 4,
 "nbformat_minor": 2
}
