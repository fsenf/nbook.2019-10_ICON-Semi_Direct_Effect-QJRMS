{
 "cells": [
  {
   "cell_type": "markdown",
   "metadata": {},
   "source": [
    "# Plotting LWP PDFs"
   ]
  },
  {
   "cell_type": "markdown",
   "metadata": {},
   "source": [
    "Here, we analyse liquid water path (LWP) PDFs\n",
    "\n",
    "Some Ideas:\n",
    "* LWP should be binned in log intervals\n",
    "* We could look at PDF or fraction or mass contributions\n",
    "\n",
    "Some maths:\n",
    "\n",
    "If $P$ is the probability to find LWP (here symbol $Q_c$ is used) in a certain interval $\\ln Q_c$, than the probability density function can be written as\n",
    "$$\n",
    "p = \\frac{dP}{d\\ln Q_c}\n",
    "$$\n",
    "\n",
    "The total domain area is defined as\n",
    "$$\n",
    "A_\\mathrm{tot} = \\int_0^\\infty d\\ln Q_c' \\; a(\\ln Q_c') \n",
    "\\approx \\overline{\\Delta a} \\int_0^\\infty d\\ln Q_c' \\;p\n",
    "$$\n",
    "where $ a(\\ln Q_c') $ is the area covered in a certain $\\ln Q_c$ interval and $\\overline{\\Delta a}$ is the average grid box area.\n",
    "\n",
    "The total liquid mass is defined as\n",
    "$$\n",
    "M_{c,\\mathrm{tot}} = \\int_0^\\infty d\\ln Q_c' \\; a(\\ln Q_c') \\,Q_c'\n",
    "\\approx \\overline{\\Delta a} \\int_0^\\infty d\\ln Q_c' \\;p\\, Q_c\n",
    "$$\n"
   ]
  },
  {
   "cell_type": "markdown",
   "metadata": {},
   "source": [
    "## Import Libraries"
   ]
  },
  {
   "cell_type": "code",
   "execution_count": 2,
   "metadata": {},
   "outputs": [
    {
     "name": "stderr",
     "output_type": "stream",
     "text": [
      "/pf/b/b380352/.conda/python37/lib/python3.7/site-packages/dask/config.py:168: YAMLLoadWarning: calling yaml.load() without Loader=... is deprecated, as the default Loader is unsafe. Please read https://msg.pyyaml.org/load for full details.\n",
      "  data = yaml.load(f.read()) or {}\n"
     ]
    }
   ],
   "source": [
    "%matplotlib inline\n",
    "\n",
    "import sys, os\n",
    "import datetime\n",
    "import numpy as np\n",
    "import xarray as xr\n",
    "import importlib\n",
    "import scipy.ndimage\n",
    "\n",
    "import pylab as plt\n",
    "plt.rcParams['figure.figsize'] = (12,8)\n",
    "import seaborn as sns\n",
    "sns.set_context( 'talk' )\n",
    "\n",
    "from cycler import cycler\n",
    "\n",
    "\n",
    "# import nawdex_analysis.io.tools"
   ]
  },
  {
   "cell_type": "code",
   "execution_count": 3,
   "metadata": {},
   "outputs": [],
   "source": [
    "tools_dir = '%s/proj/2017-11_icon-de-lem-analysis/tools' % os.environ['HOME']\n",
    "\n",
    "import sys\n",
    "sys.path.append(tools_dir)"
   ]
  },
  {
   "cell_type": "code",
   "execution_count": 4,
   "metadata": {},
   "outputs": [
    {
     "data": {
      "text/plain": [
       "<module 'input_regrid5km' from '/pf/b/b380352/proj/2017-11_icon-de-lem-analysis/tools/input_regrid5km.py'>"
      ]
     },
     "execution_count": 4,
     "metadata": {},
     "output_type": "execute_result"
    }
   ],
   "source": [
    "import input_regrid5km\n",
    "importlib.reload( input_regrid5km )"
   ]
  },
  {
   "cell_type": "markdown",
   "metadata": {},
   "source": [
    "## Open LWP Data "
   ]
  },
  {
   "cell_type": "markdown",
   "metadata": {},
   "source": [
    "The data have been combined with the script:\n",
    "    \n",
    "```\n",
    "/mnt/lustre01/pf/b/b380352/proj/2017-11_icon-de-lem-analysis/inout/combine_lwp_field.py\n",
    "```"
   ]
  },
  {
   "cell_type": "code",
   "execution_count": 5,
   "metadata": {},
   "outputs": [],
   "source": [
    "lwp = xr.open_dataset( '%s/icon-lem/aggregates/lwp_combined.nc' % os.environ['LOCAL_DATA_PATH'] )"
   ]
  },
  {
   "cell_type": "code",
   "execution_count": 6,
   "metadata": {},
   "outputs": [
    {
     "data": {
      "text/plain": [
       "{'units': 'g m-3', 'long_name': 'liquid-water path', 'standard_name': '$Q_c$'}"
      ]
     },
     "execution_count": 6,
     "metadata": {},
     "output_type": "execute_result"
    }
   ],
   "source": [
    "lwp.load()\n",
    "\n",
    "lwp = lwp * 1e3\n",
    "lwp['clwvi'].attrs['units'] = 'g m-3'\n",
    "lwp['clwvi'].attrs['long_name'] = 'liquid-water path'\n",
    "lwp['clwvi'].attrs['standard_name'] = '$Q_c$'\n",
    "\n",
    "lwp['clwvi'].attrs"
   ]
  },
  {
   "cell_type": "markdown",
   "metadata": {},
   "source": [
    "## Plot Average LWP Time Series"
   ]
  },
  {
   "cell_type": "code",
   "execution_count": 7,
   "metadata": {},
   "outputs": [
    {
     "name": "stderr",
     "output_type": "stream",
     "text": [
      "/pf/b/b380352/.conda/python37/lib/python3.7/site-packages/xarray/core/nanops.py:142: RuntimeWarning: Mean of empty slice\n",
      "  return np.nanmean(a, axis=axis, dtype=dtype)\n"
     ]
    }
   ],
   "source": [
    "lwp_mean = lwp.mean(['lon', 'lat']).compute()"
   ]
  },
  {
   "cell_type": "code",
   "execution_count": 8,
   "metadata": {},
   "outputs": [
    {
     "data": {
      "text/html": [
       "<div><svg style=\"position: absolute; width: 0; height: 0; overflow: hidden\">\n",
       "<defs>\n",
       "<symbol id=\"icon-database\" viewBox=\"0 0 32 32\">\n",
       "<title>Show/Hide data repr</title>\n",
       "<path d=\"M16 0c-8.837 0-16 2.239-16 5v4c0 2.761 7.163 5 16 5s16-2.239 16-5v-4c0-2.761-7.163-5-16-5z\"></path>\n",
       "<path d=\"M16 17c-8.837 0-16-2.239-16-5v6c0 2.761 7.163 5 16 5s16-2.239 16-5v-6c0 2.761-7.163 5-16 5z\"></path>\n",
       "<path d=\"M16 26c-8.837 0-16-2.239-16-5v6c0 2.761 7.163 5 16 5s16-2.239 16-5v-6c0 2.761-7.163 5-16 5z\"></path>\n",
       "</symbol>\n",
       "<symbol id=\"icon-file-text2\" viewBox=\"0 0 32 32\">\n",
       "<title>Show/Hide attributes</title>\n",
       "<path d=\"M28.681 7.159c-0.694-0.947-1.662-2.053-2.724-3.116s-2.169-2.030-3.116-2.724c-1.612-1.182-2.393-1.319-2.841-1.319h-15.5c-1.378 0-2.5 1.121-2.5 2.5v27c0 1.378 1.122 2.5 2.5 2.5h23c1.378 0 2.5-1.122 2.5-2.5v-19.5c0-0.448-0.137-1.23-1.319-2.841zM24.543 5.457c0.959 0.959 1.712 1.825 2.268 2.543h-4.811v-4.811c0.718 0.556 1.584 1.309 2.543 2.268zM28 29.5c0 0.271-0.229 0.5-0.5 0.5h-23c-0.271 0-0.5-0.229-0.5-0.5v-27c0-0.271 0.229-0.5 0.5-0.5 0 0 15.499-0 15.5 0v7c0 0.552 0.448 1 1 1h7v19.5z\"></path>\n",
       "<path d=\"M23 26h-14c-0.552 0-1-0.448-1-1s0.448-1 1-1h14c0.552 0 1 0.448 1 1s-0.448 1-1 1z\"></path>\n",
       "<path d=\"M23 22h-14c-0.552 0-1-0.448-1-1s0.448-1 1-1h14c0.552 0 1 0.448 1 1s-0.448 1-1 1z\"></path>\n",
       "<path d=\"M23 18h-14c-0.552 0-1-0.448-1-1s0.448-1 1-1h14c0.552 0 1 0.448 1 1s-0.448 1-1 1z\"></path>\n",
       "</symbol>\n",
       "</defs>\n",
       "</svg>\n",
       "<style>/* CSS stylesheet for displaying xarray objects in jupyterlab.\n",
       " *\n",
       " */\n",
       "\n",
       ":root {\n",
       "  --xr-font-color0: var(--jp-content-font-color0, rgba(0, 0, 0, 1));\n",
       "  --xr-font-color2: var(--jp-content-font-color2, rgba(0, 0, 0, 0.54));\n",
       "  --xr-font-color3: var(--jp-content-font-color3, rgba(0, 0, 0, 0.38));\n",
       "  --xr-border-color: var(--jp-border-color2, #e0e0e0);\n",
       "  --xr-disabled-color: var(--jp-layout-color3, #bdbdbd);\n",
       "  --xr-background-color: var(--jp-layout-color0, white);\n",
       "  --xr-background-color-row-even: var(--jp-layout-color1, white);\n",
       "  --xr-background-color-row-odd: var(--jp-layout-color2, #eeeeee);\n",
       "}\n",
       "\n",
       ".xr-wrap {\n",
       "  min-width: 300px;\n",
       "  max-width: 700px;\n",
       "}\n",
       "\n",
       ".xr-header {\n",
       "  padding-top: 6px;\n",
       "  padding-bottom: 6px;\n",
       "  margin-bottom: 4px;\n",
       "  border-bottom: solid 1px var(--xr-border-color);\n",
       "}\n",
       "\n",
       ".xr-header > div,\n",
       ".xr-header > ul {\n",
       "  display: inline;\n",
       "  margin-top: 0;\n",
       "  margin-bottom: 0;\n",
       "}\n",
       "\n",
       ".xr-obj-type,\n",
       ".xr-array-name {\n",
       "  margin-left: 2px;\n",
       "  margin-right: 10px;\n",
       "}\n",
       "\n",
       ".xr-obj-type {\n",
       "  color: var(--xr-font-color2);\n",
       "}\n",
       "\n",
       ".xr-sections {\n",
       "  padding-left: 0 !important;\n",
       "  display: grid;\n",
       "  grid-template-columns: 150px auto auto 1fr 20px 20px;\n",
       "}\n",
       "\n",
       ".xr-section-item {\n",
       "  display: contents;\n",
       "}\n",
       "\n",
       ".xr-section-item input {\n",
       "  display: none;\n",
       "}\n",
       "\n",
       ".xr-section-item input + label {\n",
       "  color: var(--xr-disabled-color);\n",
       "}\n",
       "\n",
       ".xr-section-item input:enabled + label {\n",
       "  cursor: pointer;\n",
       "  color: var(--xr-font-color2);\n",
       "}\n",
       "\n",
       ".xr-section-item input:enabled + label:hover {\n",
       "  color: var(--xr-font-color0);\n",
       "}\n",
       "\n",
       ".xr-section-summary {\n",
       "  grid-column: 1;\n",
       "  color: var(--xr-font-color2);\n",
       "  font-weight: 500;\n",
       "}\n",
       "\n",
       ".xr-section-summary > span {\n",
       "  display: inline-block;\n",
       "  padding-left: 0.5em;\n",
       "}\n",
       "\n",
       ".xr-section-summary-in:disabled + label {\n",
       "  color: var(--xr-font-color2);\n",
       "}\n",
       "\n",
       ".xr-section-summary-in + label:before {\n",
       "  display: inline-block;\n",
       "  content: '►';\n",
       "  font-size: 11px;\n",
       "  width: 15px;\n",
       "  text-align: center;\n",
       "}\n",
       "\n",
       ".xr-section-summary-in:disabled + label:before {\n",
       "  color: var(--xr-disabled-color);\n",
       "}\n",
       "\n",
       ".xr-section-summary-in:checked + label:before {\n",
       "  content: '▼';\n",
       "}\n",
       "\n",
       ".xr-section-summary-in:checked + label > span {\n",
       "  display: none;\n",
       "}\n",
       "\n",
       ".xr-section-summary,\n",
       ".xr-section-inline-details {\n",
       "  padding-top: 4px;\n",
       "  padding-bottom: 4px;\n",
       "}\n",
       "\n",
       ".xr-section-inline-details {\n",
       "  grid-column: 2 / -1;\n",
       "}\n",
       "\n",
       ".xr-section-details {\n",
       "  display: none;\n",
       "  grid-column: 1 / -1;\n",
       "  margin-bottom: 5px;\n",
       "}\n",
       "\n",
       ".xr-section-summary-in:checked ~ .xr-section-details {\n",
       "  display: contents;\n",
       "}\n",
       "\n",
       ".xr-array-wrap {\n",
       "  grid-column: 1 / -1;\n",
       "  display: grid;\n",
       "  grid-template-columns: 20px auto;\n",
       "}\n",
       "\n",
       ".xr-array-wrap > label {\n",
       "  grid-column: 1;\n",
       "  vertical-align: top;\n",
       "}\n",
       "\n",
       ".xr-preview {\n",
       "  color: var(--xr-font-color3);\n",
       "}\n",
       "\n",
       ".xr-array-preview,\n",
       ".xr-array-data {\n",
       "  padding: 0 5px !important;\n",
       "  grid-column: 2;\n",
       "}\n",
       "\n",
       ".xr-array-data,\n",
       ".xr-array-in:checked ~ .xr-array-preview {\n",
       "  display: none;\n",
       "}\n",
       "\n",
       ".xr-array-in:checked ~ .xr-array-data,\n",
       ".xr-array-preview {\n",
       "  display: inline-block;\n",
       "}\n",
       "\n",
       ".xr-dim-list {\n",
       "  display: inline-block !important;\n",
       "  list-style: none;\n",
       "  padding: 0 !important;\n",
       "  margin: 0;\n",
       "}\n",
       "\n",
       ".xr-dim-list li {\n",
       "  display: inline-block;\n",
       "  padding: 0;\n",
       "  margin: 0;\n",
       "}\n",
       "\n",
       ".xr-dim-list:before {\n",
       "  content: '(';\n",
       "}\n",
       "\n",
       ".xr-dim-list:after {\n",
       "  content: ')';\n",
       "}\n",
       "\n",
       ".xr-dim-list li:not(:last-child):after {\n",
       "  content: ',';\n",
       "  padding-right: 5px;\n",
       "}\n",
       "\n",
       ".xr-has-index {\n",
       "  font-weight: bold;\n",
       "}\n",
       "\n",
       ".xr-var-list,\n",
       ".xr-var-item {\n",
       "  display: contents;\n",
       "}\n",
       "\n",
       ".xr-var-item > div,\n",
       ".xr-var-item label,\n",
       ".xr-var-item > .xr-var-name span {\n",
       "  background-color: var(--xr-background-color-row-even);\n",
       "  margin-bottom: 0;\n",
       "}\n",
       "\n",
       ".xr-var-item > .xr-var-name:hover span {\n",
       "  padding-right: 5px;\n",
       "}\n",
       "\n",
       ".xr-var-list > li:nth-child(odd) > div,\n",
       ".xr-var-list > li:nth-child(odd) > label,\n",
       ".xr-var-list > li:nth-child(odd) > .xr-var-name span {\n",
       "  background-color: var(--xr-background-color-row-odd);\n",
       "}\n",
       "\n",
       ".xr-var-name {\n",
       "  grid-column: 1;\n",
       "}\n",
       "\n",
       ".xr-var-dims {\n",
       "  grid-column: 2;\n",
       "}\n",
       "\n",
       ".xr-var-dtype {\n",
       "  grid-column: 3;\n",
       "  text-align: right;\n",
       "  color: var(--xr-font-color2);\n",
       "}\n",
       "\n",
       ".xr-var-preview {\n",
       "  grid-column: 4;\n",
       "}\n",
       "\n",
       ".xr-var-name,\n",
       ".xr-var-dims,\n",
       ".xr-var-dtype,\n",
       ".xr-preview,\n",
       ".xr-attrs dt {\n",
       "  white-space: nowrap;\n",
       "  overflow: hidden;\n",
       "  text-overflow: ellipsis;\n",
       "  padding-right: 10px;\n",
       "}\n",
       "\n",
       ".xr-var-name:hover,\n",
       ".xr-var-dims:hover,\n",
       ".xr-var-dtype:hover,\n",
       ".xr-attrs dt:hover {\n",
       "  overflow: visible;\n",
       "  width: auto;\n",
       "  z-index: 1;\n",
       "}\n",
       "\n",
       ".xr-var-attrs,\n",
       ".xr-var-data {\n",
       "  display: none;\n",
       "  background-color: var(--xr-background-color) !important;\n",
       "  padding-bottom: 5px !important;\n",
       "}\n",
       "\n",
       ".xr-var-attrs-in:checked ~ .xr-var-attrs,\n",
       ".xr-var-data-in:checked ~ .xr-var-data {\n",
       "  display: block;\n",
       "}\n",
       "\n",
       ".xr-var-data > table {\n",
       "  float: right;\n",
       "}\n",
       "\n",
       ".xr-var-name span,\n",
       ".xr-var-data,\n",
       ".xr-attrs {\n",
       "  padding-left: 25px !important;\n",
       "}\n",
       "\n",
       ".xr-attrs,\n",
       ".xr-var-attrs,\n",
       ".xr-var-data {\n",
       "  grid-column: 1 / -1;\n",
       "}\n",
       "\n",
       "dl.xr-attrs {\n",
       "  padding: 0;\n",
       "  margin: 0;\n",
       "  display: grid;\n",
       "  grid-template-columns: 125px auto;\n",
       "}\n",
       "\n",
       ".xr-attrs dt, dd {\n",
       "  padding: 0;\n",
       "  margin: 0;\n",
       "  float: left;\n",
       "  padding-right: 10px;\n",
       "  width: auto;\n",
       "}\n",
       "\n",
       ".xr-attrs dt {\n",
       "  font-weight: normal;\n",
       "  grid-column: 1;\n",
       "}\n",
       "\n",
       ".xr-attrs dt:hover span {\n",
       "  display: inline-block;\n",
       "  background: var(--xr-background-color);\n",
       "  padding-right: 10px;\n",
       "}\n",
       "\n",
       ".xr-attrs dd {\n",
       "  grid-column: 2;\n",
       "  white-space: pre-wrap;\n",
       "  word-break: break-all;\n",
       "}\n",
       "\n",
       ".xr-icon-database,\n",
       ".xr-icon-file-text2 {\n",
       "  display: inline-block;\n",
       "  vertical-align: middle;\n",
       "  width: 1em;\n",
       "  height: 1.5em !important;\n",
       "  stroke-width: 0;\n",
       "  stroke: currentColor;\n",
       "  fill: currentColor;\n",
       "}\n",
       "</style><div class='xr-wrap'><div class='xr-header'><div class='xr-obj-type'>xarray.DataArray</div><div class='xr-array-name'>'time'</div><ul class='xr-dim-list'><li><span class='xr-has-index'>time</span>: 19</li></ul></div><ul class='xr-sections'><li class='xr-section-item'><div class='xr-array-wrap'><input id='section-74760ff2-ebe1-443f-a54a-178e34c23ec5' class='xr-array-in' type='checkbox' ><label for='section-74760ff2-ebe1-443f-a54a-178e34c23ec5' title='Show/hide data repr'><svg class='icon xr-icon-database'><use xlink:href='#icon-database'></use></svg></label><div class='xr-array-preview xr-preview'><span>2013-05-02T06:00:00 2013-05-02T07:00:00 ... 2013-05-03</span></div><pre class='xr-array-data'>array([&#x27;2013-05-02T06:00:00.000000000&#x27;, &#x27;2013-05-02T07:00:00.000000000&#x27;,\n",
       "       &#x27;2013-05-02T08:00:00.000000000&#x27;, &#x27;2013-05-02T09:00:00.000000000&#x27;,\n",
       "       &#x27;2013-05-02T10:00:00.000000000&#x27;, &#x27;2013-05-02T11:00:00.000000000&#x27;,\n",
       "       &#x27;2013-05-02T12:00:00.000000000&#x27;, &#x27;2013-05-02T13:00:00.000000000&#x27;,\n",
       "       &#x27;2013-05-02T14:00:00.000000000&#x27;, &#x27;2013-05-02T15:00:00.000000000&#x27;,\n",
       "       &#x27;2013-05-02T16:00:00.000000000&#x27;, &#x27;2013-05-02T17:00:00.000000000&#x27;,\n",
       "       &#x27;2013-05-02T18:00:00.000000000&#x27;, &#x27;2013-05-02T19:00:00.000000000&#x27;,\n",
       "       &#x27;2013-05-02T20:00:00.000000000&#x27;, &#x27;2013-05-02T21:00:00.000000000&#x27;,\n",
       "       &#x27;2013-05-02T22:00:00.000000000&#x27;, &#x27;2013-05-02T23:00:00.000000000&#x27;,\n",
       "       &#x27;2013-05-03T00:00:00.000000000&#x27;], dtype=&#x27;datetime64[ns]&#x27;)</pre></div></li><li class='xr-section-item'><input id='section-f35be573-b324-4a7a-9207-186552ad5dfd' class='xr-section-summary-in' type='checkbox'  checked><label for='section-f35be573-b324-4a7a-9207-186552ad5dfd' class='xr-section-summary' >Coordinates: <span>(1)</span></label><div class='xr-section-inline-details'></div><div class='xr-section-details'><ul class='xr-var-list'><li class='xr-var-item'><div class='xr-var-name'><span class='xr-has-index'>time</span></div><div class='xr-var-dims'>(time)</div><div class='xr-var-dtype'>datetime64[ns]</div><div class='xr-var-preview xr-preview'>2013-05-02T06:00:00 ... 2013-05-03</div><input id='attrs-dc82f537-13b3-4697-9738-524b086af8af' class='xr-var-attrs-in' type='checkbox' disabled><label for='attrs-dc82f537-13b3-4697-9738-524b086af8af' title='Show/Hide attributes'><svg class='icon xr-icon-file-text2'><use xlink:href='#icon-file-text2'></use></svg></label><input id='data-33327231-b01c-44da-b45a-f705fc2aae1c' class='xr-var-data-in' type='checkbox'><label for='data-33327231-b01c-44da-b45a-f705fc2aae1c' title='Show/Hide data repr'><svg class='icon xr-icon-database'><use xlink:href='#icon-database'></use></svg></label><div class='xr-var-attrs'><dl class='xr-attrs'></dl></div><pre class='xr-var-data'>array([&#x27;2013-05-02T06:00:00.000000000&#x27;, &#x27;2013-05-02T07:00:00.000000000&#x27;,\n",
       "       &#x27;2013-05-02T08:00:00.000000000&#x27;, &#x27;2013-05-02T09:00:00.000000000&#x27;,\n",
       "       &#x27;2013-05-02T10:00:00.000000000&#x27;, &#x27;2013-05-02T11:00:00.000000000&#x27;,\n",
       "       &#x27;2013-05-02T12:00:00.000000000&#x27;, &#x27;2013-05-02T13:00:00.000000000&#x27;,\n",
       "       &#x27;2013-05-02T14:00:00.000000000&#x27;, &#x27;2013-05-02T15:00:00.000000000&#x27;,\n",
       "       &#x27;2013-05-02T16:00:00.000000000&#x27;, &#x27;2013-05-02T17:00:00.000000000&#x27;,\n",
       "       &#x27;2013-05-02T18:00:00.000000000&#x27;, &#x27;2013-05-02T19:00:00.000000000&#x27;,\n",
       "       &#x27;2013-05-02T20:00:00.000000000&#x27;, &#x27;2013-05-02T21:00:00.000000000&#x27;,\n",
       "       &#x27;2013-05-02T22:00:00.000000000&#x27;, &#x27;2013-05-02T23:00:00.000000000&#x27;,\n",
       "       &#x27;2013-05-03T00:00:00.000000000&#x27;], dtype=&#x27;datetime64[ns]&#x27;)</pre></li></ul></div></li><li class='xr-section-item'><input id='section-4ec0b5f5-01fb-40b4-8ac9-aa1c4f274b50' class='xr-section-summary-in' type='checkbox' disabled ><label for='section-4ec0b5f5-01fb-40b4-8ac9-aa1c4f274b50' class='xr-section-summary'  title='Expand/collapse section'>Attributes: <span>(0)</span></label><div class='xr-section-inline-details'></div><div class='xr-section-details'><dl class='xr-attrs'></dl></div></li></ul></div></div>"
      ],
      "text/plain": [
       "<xarray.DataArray 'time' (time: 19)>\n",
       "array(['2013-05-02T06:00:00.000000000', '2013-05-02T07:00:00.000000000',\n",
       "       '2013-05-02T08:00:00.000000000', '2013-05-02T09:00:00.000000000',\n",
       "       '2013-05-02T10:00:00.000000000', '2013-05-02T11:00:00.000000000',\n",
       "       '2013-05-02T12:00:00.000000000', '2013-05-02T13:00:00.000000000',\n",
       "       '2013-05-02T14:00:00.000000000', '2013-05-02T15:00:00.000000000',\n",
       "       '2013-05-02T16:00:00.000000000', '2013-05-02T17:00:00.000000000',\n",
       "       '2013-05-02T18:00:00.000000000', '2013-05-02T19:00:00.000000000',\n",
       "       '2013-05-02T20:00:00.000000000', '2013-05-02T21:00:00.000000000',\n",
       "       '2013-05-02T22:00:00.000000000', '2013-05-02T23:00:00.000000000',\n",
       "       '2013-05-03T00:00:00.000000000'], dtype='datetime64[ns]')\n",
       "Coordinates:\n",
       "  * time     (time) datetime64[ns] 2013-05-02T06:00:00 ... 2013-05-03"
      ]
     },
     "execution_count": 8,
     "metadata": {},
     "output_type": "execute_result"
    }
   ],
   "source": [
    "lwp_mean.time"
   ]
  },
  {
   "cell_type": "code",
   "execution_count": 9,
   "metadata": {},
   "outputs": [
    {
     "data": {
      "image/png": "[encoded data removed]",
      "text/plain": [
       "<Figure size 1006.65x288 with 2 Axes>"
      ]
     },
     "metadata": {
      "needs_background": "light"
     },
     "output_type": "display_data"
    }
   ],
   "source": [
    "lwp_mean['clwvi'].plot(col = 'dom', hue = 'mode', x = 'time', figsize = (12,4))\n",
    "for h in [8,11, 14]:\n",
    "    plt.axvline(lwp.time.sel(time = '2013-05-02T%s' % str(h).zfill(2)).data, c = 'gray', alpha = 0.5, ls = '--')\n",
    "sns.despine()"
   ]
  },
  {
   "cell_type": "markdown",
   "metadata": {},
   "source": [
    "## Calculate PDFs"
   ]
  },
  {
   "cell_type": "markdown",
   "metadata": {},
   "source": [
    "### Select Time Range"
   ]
  },
  {
   "cell_type": "code",
   "execution_count": 10,
   "metadata": {},
   "outputs": [],
   "source": [
    "t_start = '2013-05-02T08'\n",
    "t_end = '2013-05-02T14'\n"
   ]
  },
  {
   "cell_type": "code",
   "execution_count": 11,
   "metadata": {},
   "outputs": [],
   "source": [
    "Q_c = lwp['clwvi'].sel(time = slice(t_start, t_end))"
   ]
  },
  {
   "cell_type": "markdown",
   "metadata": {},
   "source": [
    "### Histogram Binning"
   ]
  },
  {
   "cell_type": "code",
   "execution_count": 12,
   "metadata": {},
   "outputs": [],
   "source": [
    "Qbins = 10**np.linspace(-3, 4, 60)"
   ]
  },
  {
   "cell_type": "code",
   "execution_count": 13,
   "metadata": {},
   "outputs": [],
   "source": [
    "def calc_hist(f, bins = Qbins, log_binning = True, sigma = 0.,\n",
    "                moment = 0,\n",
    "                density = True):\n",
    "\n",
    "    total_size = 1. * np.size( f )\n",
    "    \n",
    "    quantity = f**moment\n",
    "    \n",
    "    \n",
    "    Nbins = len(bins)\n",
    "    h = []\n",
    "    for n in range(Nbins - 1):\n",
    "        b1 = bins[n]\n",
    "        b2 = bins[n+1]\n",
    "\n",
    "        # including the right-most edge (like numpy)\n",
    "        m = (f > b1) & (f <= b2)\n",
    "\n",
    "        h += [quantity[m].sum(), ]\n",
    "\n",
    "    h = np.array( h )\n",
    "    \n",
    "    if sigma > 0:\n",
    "        h = scipy.ndimage.gaussian_filter1d( h, sigma )\n",
    "        \n",
    "    if density:\n",
    "        if log_binning:\n",
    "            dbin = np.diff( np.log(bins) )\n",
    "        else:\n",
    "            dbin = np.diff( bins )\n",
    "\n",
    "        return h / total_size / dbin\n",
    "    else:\n",
    "        return h\n"
   ]
  },
  {
   "cell_type": "code",
   "execution_count": 14,
   "metadata": {},
   "outputs": [],
   "source": [
    "d = xr.Dataset()\n",
    "d['PDF'] = xr.apply_ufunc(calc_hist, Q_c, \n",
    "                             input_core_dims=[['lon', 'lat'], ],\n",
    "                             output_core_dims=[['bins']],\n",
    "                             vectorize=True, kwargs = dict(bins = Qbins, moment = 0, sigma = 3))\n",
    "\n",
    "Qbins_c = 0.5*(Qbins[1:] + Qbins[:-1])\n",
    "d['bins'] = xr.DataArray(data = Qbins_c, dims = 'bins')"
   ]
  },
  {
   "cell_type": "code",
   "execution_count": 15,
   "metadata": {},
   "outputs": [],
   "source": [
    "d['contrib'] = xr.apply_ufunc(calc_hist, Q_c, \n",
    "                             input_core_dims=[['lon', 'lat'], ],\n",
    "                             output_core_dims=[['bins']],\n",
    "                             vectorize=True, kwargs = dict(moment = 1, sigma = 3))\n",
    "\n",
    "Qbins_c = 0.5*(Qbins[1:] + Qbins[:-1])\n",
    "d['bins'] = xr.DataArray(data = Qbins_c, dims = 'bins')"
   ]
  },
  {
   "cell_type": "code",
   "execution_count": 16,
   "metadata": {},
   "outputs": [],
   "source": [
    "d = input_regrid5km.get_difference( d )"
   ]
  },
  {
   "cell_type": "code",
   "execution_count": 17,
   "metadata": {},
   "outputs": [],
   "source": [
    "ddiff = d.sel(mode = 'difference')"
   ]
  },
  {
   "cell_type": "markdown",
   "metadata": {},
   "source": [
    "## PDFs for different time ranges"
   ]
  },
  {
   "cell_type": "code",
   "execution_count": 18,
   "metadata": {},
   "outputs": [],
   "source": [
    "range1 = slice('2013-05-02T08', '2013-05-02T11')\n",
    "range2 = slice('2013-05-02T11', '2013-05-02T14')\n"
   ]
  },
  {
   "cell_type": "code",
   "execution_count": 23,
   "metadata": {},
   "outputs": [
    {
     "data": {
      "image/png": "[encoded data removed]",
      "text/plain": [
       "<Figure size 1152x288 with 2 Axes>"
      ]
     },
     "metadata": {
      "needs_background": "light"
     },
     "output_type": "display_data"
    }
   ],
   "source": [
    "figs, ax = plt.subplots( ncols = 2, figsize = (16, 4))\n",
    "plt.subplots_adjust( wspace = 0.5, bottom = 0.25, right = 0.85)\n",
    "\n",
    "\n",
    "## plot PDF\n",
    "# =========\n",
    "plt.sca( ax[0])\n",
    "\n",
    "scale = 1e2\n",
    "vname = 'PDF'\n",
    "\n",
    "# range2\n",
    "dsel = ddiff.sel( time = range2 )\n",
    "dm = d.sel( time = range2, mode = ['scattering','absorbing'] ).mean(['time', 'dom', 'mode'])\n",
    "\n",
    "dsel['dom'] = ['625m', '312m']\n",
    "(scale * dsel[vname]).mean('time').plot(hue = 'dom', lw = 1,)\n",
    "(dm[vname]).plot( c = 'k', lw = 1)\n",
    "\n",
    "# range1\n",
    "dsel = ddiff.sel( time = range1 )\n",
    "dm = d.sel( time = range1, mode = ['scattering','absorbing'] ).mean(['time', 'dom', 'mode'])\n",
    "\n",
    "\n",
    "ax[0].set_prop_cycle(None)\n",
    "dsel['dom'] = ['625m', '312m']\n",
    "( scale * dsel[vname]).mean('time').plot(hue = 'dom', lw = 3)\n",
    "(dm[vname]).plot( c = 'k', lw = 3)\n",
    "\n",
    "\n",
    "\n",
    "\n",
    "\n",
    "plt.xscale('log')\n",
    "plt.ylabel('$\\dfrac{dP}{d(\\ln Q_c)}$', labelpad = 10)\n",
    "plt.xlabel(r'$Q_c$ / (g m${}^{-2}$ )')\n",
    "plt.title('(a) LWP Distributions', fontweight = 'bold')\n",
    "\n",
    "plt.axhline(0, color = 'gray', alpha = 0.3, lw = 5)\n",
    "plt.axvline(200., color = 'k', ls = '--')\n",
    "\n",
    "sns.despine()\n",
    "\n",
    "legend = plt.gca().get_legend()\n",
    "legend.set_frame_on( False )\n",
    "legend.set_title(r'$10^2\\,\\times\\,\\Delta$')\n",
    "\n",
    "## plot contribution\n",
    "# ==================\n",
    "plt.sca( ax[1])\n",
    "\n",
    "scale = 1e2\n",
    "vname = 'contrib'\n",
    "\n",
    "# range2\n",
    "dsel = ddiff.sel( time = range2 )\n",
    "dm = d.sel( time = range2, mode = ['scattering','absorbing'] ).mean(['time', 'dom', 'mode'])\n",
    "\n",
    "(scale * dsel[vname]).mean('time').plot(hue = 'dom', lw = 1,)\n",
    "(dm[vname]).plot( c = 'k', lw = 1)\n",
    "\n",
    "# range1\n",
    "dsel = ddiff.sel( time = range1 )\n",
    "dsel['dom'] = ['625m', '312m']\n",
    "\n",
    "dm = d.sel( time = range1, mode = ['scattering','absorbing'] ).mean(['time', 'dom', 'mode'])\n",
    "\n",
    "\n",
    "ax[1].set_prop_cycle(None)\n",
    "( scale * dsel[vname]).mean('time').plot(hue = 'dom', lw = 3)\n",
    "(dm[vname]).plot( c = 'k', lw = 3)\n",
    "\n",
    "\n",
    "\n",
    "plt.xscale('log')\n",
    "plt.xlabel(r'$Q_c$ / (g m${}^{-2}$ )')\n",
    "plt.ylabel(r'$Q_c \\, \\dfrac{dP}{d(\\ln Q_c)}$ / (g m${}^{-2}$ )', labelpad = 10)\n",
    "plt.title('(b) LWP Contributions', fontweight = 'bold')\n",
    "\n",
    "plt.axhline(0, color = 'gray', alpha = 0.3, lw = 5)\n",
    "plt.axvline(200., color = 'k', ls = '--')\n",
    "sns.despine()\n",
    "\n",
    "\n",
    "legend = plt.gca().get_legend()\n",
    "legend.set_frame_on( False )\n",
    "legend.set_title(r'$10^2\\,\\times\\,\\Delta$')\n",
    "\n",
    "plt.savefig('../pics/lwp-changes.png', dpi = 300.)\n"
   ]
  }
 ],
 "metadata": {
  "kernelspec": {
   "display_name": "Python 3.7 Local Env",
   "language": "python",
   "name": "python3.7-local"
  },
  "language_info": {
   "codemirror_mode": {
    "name": "ipython",
    "version": 3
   },
   "file_extension": ".py",
   "mimetype": "text/x-python",
   "name": "python",
   "nbconvert_exporter": "python",
   "pygments_lexer": "ipython3",
   "version": "3.7.7"
  }
 },
 "nbformat": 4,
 "nbformat_minor": 2
}
