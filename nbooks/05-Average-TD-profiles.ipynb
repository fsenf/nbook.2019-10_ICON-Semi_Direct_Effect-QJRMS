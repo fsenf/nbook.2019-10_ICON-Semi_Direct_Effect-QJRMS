{
 "cells": [
  {
   "cell_type": "markdown",
   "metadata": {},
   "source": [
    "# Semi Direct Effects: Having a Closer Look on Profiles Again"
   ]
  },
  {
   "cell_type": "markdown",
   "metadata": {},
   "source": [
    "This is a modified clone of [07-Semi-Direct-Effects_Compare-Domain-Averages-based-on-Aggregate-File.ipynb](07-Semi-Direct-Effects_Compare-Domain-Averages-based-on-Aggregate-File.ipynb)"
   ]
  },
  {
   "cell_type": "markdown",
   "metadata": {},
   "source": [
    "## Data Description"
   ]
  },
  {
   "cell_type": "markdown",
   "metadata": {},
   "source": [
    "The data aggregates have been collected and resampled in [06-Semi-Direct-Effects_Save_Domave_Aggregates.ipynb](06-Semi-Direct-Effects_Save_Domave_Aggregates.ipynb)"
   ]
  },
  {
   "cell_type": "markdown",
   "metadata": {},
   "source": [
    "## Libs"
   ]
  },
  {
   "cell_type": "code",
   "execution_count": null,
   "metadata": {},
   "outputs": [],
   "source": [
    "%matplotlib inline\n",
    "\n",
    "import os, sys\n",
    "import pylab as plt\n",
    "import numpy as np\n",
    "import numpy\n",
    "\n",
    "import seaborn as sns\n",
    "sns.set_context('talk')\n",
    "\n",
    "\n",
    "import xarray as xr\n",
    "xr.set_options(keep_attrs=True)\n",
    "\n",
    "import nawdex_analysis.io.tools\n"
   ]
  },
  {
   "cell_type": "markdown",
   "metadata": {},
   "source": [
    "## Data Input"
   ]
  },
  {
   "cell_type": "code",
   "execution_count": null,
   "metadata": {},
   "outputs": [],
   "source": [
    "try:\n",
    "    dset.close()\n",
    "except:\n",
    "    pass"
   ]
  },
  {
   "cell_type": "code",
   "execution_count": null,
   "metadata": {},
   "outputs": [],
   "source": [
    "fdir = '%s/icon-lem/aggregates' % (os.environ['LOCAL_DATA_PATH'],  )\n",
    "fname = '%s/domain_average_resampled5min.nc' % fdir\n",
    "dset = xr.open_dataset( fname ).isel( time = slice(1, 288))\n",
    "    "
   ]
  },
  {
   "cell_type": "markdown",
   "metadata": {},
   "source": [
    "### Set Time Range"
   ]
  },
  {
   "cell_type": "code",
   "execution_count": null,
   "metadata": {},
   "outputs": [],
   "source": [
    "t_start = '2013-05-02T08'\n",
    "t_end = '2013-05-02T14'\n",
    "\n",
    "dset = dset.sel( time = slice( t_start, t_end))"
   ]
  },
  {
   "cell_type": "markdown",
   "metadata": {},
   "source": [
    "## Liquid Layer"
   ]
  },
  {
   "cell_type": "code",
   "execution_count": null,
   "metadata": {},
   "outputs": [],
   "source": [
    "qc_prof = dset['clw'].sel(mode = 'scattering').mean(['time', 'dom'])\n",
    "qc_mask = qc_prof > qc_prof.max() / 2."
   ]
  },
  {
   "cell_type": "markdown",
   "metadata": {},
   "source": [
    "## Plots"
   ]
  },
  {
   "cell_type": "code",
   "execution_count": null,
   "metadata": {},
   "outputs": [],
   "source": [
    "def plot_profile(vname, time='mean', method='diff', ax=None, scale=1., plot_liquid_layer=True):\n",
    "\n",
    "    if ax is None:\n",
    "        fig = plt.figure(figsize=(5, 6))\n",
    "        plt.subplots_adjust(bottom=0.2, right=0.7, left=0.3, top=0.85)\n",
    "    else:\n",
    "        plt.sca(ax)\n",
    "    if time == 'mean':\n",
    "        v = dset[vname].sel(time=slice('2013-05-02T06', '2013-05-02T18'))\n",
    "\n",
    "    else:\n",
    "        v = dset[vname].sel(time=time)\n",
    "\n",
    "    v = v.mean('time')\n",
    "\n",
    "    height = dset.sel(mode='scattering', dom='DOM01')[\n",
    "        'pres'].mean('time') / 1e2\n",
    "\n",
    "    if method == 'diff':\n",
    "        diff = v.sel(mode='absorbing') - v.sel(mode='scattering')\n",
    "\n",
    "        for dom in diff.dom:\n",
    "            d = scale * diff.sel(dom=dom)\n",
    "            plt.plot(d, height, lw=3)\n",
    "\n",
    "        plt.axvline(0, color='gray', alpha=0.3, lw=5)\n",
    "\n",
    "    elif method == 'ref':\n",
    "        d = v.sel(mode='scattering').mean('dom')\n",
    "\n",
    "        plt.plot(d, height, c='k', lw=3)\n",
    "\n",
    "    # plt.title('%s / ( %s )' % (d.long_name, d.units), pad = 20)\n",
    "\n",
    "    if plot_liquid_layer:\n",
    "        h1 = height.where(qc_mask).min()\n",
    "        h2 = height.where(qc_mask).max()\n",
    "        \n",
    "        print(h1.data, h2.data)\n",
    "\n",
    "        plt.axhspan(h1, h2, color='darkturquoise', alpha=0.05)\n",
    "\n",
    "    plt.ylabel('Pressure / hPa')\n",
    "    plt.xlabel('%s / %s' % (d.standard_name, d.units))\n",
    "    plt.ylim(1000, 200)"
   ]
  },
  {
   "cell_type": "markdown",
   "metadata": {},
   "source": [
    "### Set Relevant Scales"
   ]
  },
  {
   "cell_type": "code",
   "execution_count": null,
   "metadata": {},
   "outputs": [],
   "source": [
    "c_p = 1004.\n",
    "L = 2.5e6\n",
    "g = 9.81\n",
    "T = 8 * 3.6e3  # let's assume 8 hours interval"
   ]
  },
  {
   "cell_type": "markdown",
   "metadata": {},
   "source": [
    "### Cloud Cover"
   ]
  },
  {
   "cell_type": "code",
   "execution_count": null,
   "metadata": {},
   "outputs": [],
   "source": [
    "vname = 'clc'\n",
    "\n",
    "plot_profile(vname)\n",
    "a = plt.gca()\n",
    "a.set_xlabel('$\\Delta CC$ / %', labelpad=10)\n",
    "#a.set_xlim(-2, 1)\n",
    "\n",
    "a2 = plt.gca().twiny()\n",
    "plot_profile(vname, ax=a2, method='ref')\n",
    "a2.set_xlabel('(c) Cloud Cover / %', labelpad=20, fontweight='bold')\n",
    "a2.set_xlim(0, 50)\n",
    "\n",
    "\n",
    "sns.despine(top=False)\n",
    "plt.savefig('../pics/prof-cc.png', dpi=300)"
   ]
  },
  {
   "cell_type": "markdown",
   "metadata": {},
   "source": [
    "### Temperature"
   ]
  },
  {
   "cell_type": "code",
   "execution_count": null,
   "metadata": {
    "scrolled": false
   },
   "outputs": [],
   "source": [
    "vname = 'ta'\n",
    "\n",
    "\n",
    "plot_profile(vname, scale=c_p)\n",
    "a = plt.gca()\n",
    "a.set_xlabel('$c_p\\,\\Delta T$ / (J kg${}^{-1})$', labelpad=10)\n",
    "a.set_xlim(-24, 75)\n",
    "\n",
    "a2 = plt.gca().twiny()\n",
    "plot_profile(vname, ax=a2, method='ref')\n",
    "a2.set_xlabel('(a) Temperature / K', labelpad=20, fontweight='bold')\n",
    "\n",
    "\n",
    "sns.despine(top=False)\n",
    "\n",
    "plt.savefig('../pics/prof-temp.png', dpi=300)"
   ]
  },
  {
   "cell_type": "markdown",
   "metadata": {},
   "source": [
    "### Humidity"
   ]
  },
  {
   "cell_type": "code",
   "execution_count": null,
   "metadata": {},
   "outputs": [],
   "source": [
    "dset['husg'] = 1e3 * dset['hus']\n",
    "dset['husg'].attrs.update( dict( units = 'g kg-1') )"
   ]
  },
  {
   "cell_type": "code",
   "execution_count": null,
   "metadata": {
    "scrolled": false
   },
   "outputs": [],
   "source": [
    "vname = 'husg'\n",
    "\n",
    "\n",
    "plot_profile( vname, scale = L / 1e3)\n",
    "a = plt.gca()\n",
    "a.set_xlabel('$L\\,\\Delta q$ / (J kg${}^{-1})$', labelpad = 10)\n",
    "a.set_xlim(-24, 75)\n",
    "\n",
    "a2 = plt.gca( ).twiny()\n",
    "plot_profile( vname, ax = a2, method = 'ref')\n",
    "a2.set_xlabel('(b) Specific Humidity / (g kg${}^{-1}$)', labelpad = 20, fontweight = 'bold' )\n",
    "\n",
    "sns.despine(top = False)\n",
    "plt.savefig('../pics/prof-qv.png', dpi = 300)"
   ]
  },
  {
   "cell_type": "markdown",
   "metadata": {},
   "source": [
    "### Check Relative Humidity"
   ]
  },
  {
   "cell_type": "code",
   "execution_count": null,
   "metadata": {},
   "outputs": [],
   "source": [
    "import tropy.analysis_tools.thermodynamic_variables as td"
   ]
  },
  {
   "cell_type": "code",
   "execution_count": null,
   "metadata": {},
   "outputs": [],
   "source": [
    "qv = dset['hus']\n",
    "r = qv / (1 - qv)"
   ]
  },
  {
   "cell_type": "code",
   "execution_count": null,
   "metadata": {},
   "outputs": [],
   "source": [
    "dset['RH'] = td.relative_humidity( r, dset['pres'], dset['ta'])"
   ]
  },
  {
   "cell_type": "code",
   "execution_count": null,
   "metadata": {
    "scrolled": false
   },
   "outputs": [],
   "source": [
    "vname = 'RH'\n",
    "\n",
    "\n",
    "plot_profile(vname, scale=1.)\n",
    "a = plt.gca()\n",
    "a.set_xlabel('$\\Delta$ RH / (%)', labelpad=10)\n",
    "#a.set_xlim(-5, 5)\n",
    "\n",
    "a2 = plt.gca().twiny()\n",
    "plot_profile(vname, ax=a2, method='ref')\n",
    "a2.set_xlabel('Relative Humidity / (%)', labelpad=20, fontweight='bold')\n",
    "\n",
    "sns.despine(top=False)"
   ]
  },
  {
   "cell_type": "markdown",
   "metadata": {},
   "source": [
    "### Pressure"
   ]
  },
  {
   "cell_type": "code",
   "execution_count": null,
   "metadata": {
    "scrolled": false
   },
   "outputs": [],
   "source": [
    "vname = 'pres'\n",
    "\n",
    "\n",
    "plot_profile( vname, scale = 1.)\n",
    "a = plt.gca()\n",
    "a.set_xlabel('$\\Delta$ p / (Pa)', labelpad = 10)\n",
    "#a.set_xlim(-5, 5)\n",
    "\n",
    "a2 = plt.gca( ).twiny()\n",
    "plot_profile( vname, ax = a2, method = 'ref')\n",
    "a2.set_xlabel('Pressure / (Pa)', labelpad = 20, fontweight = 'bold' )\n",
    "\n",
    "sns.despine(top = False)\n"
   ]
  },
  {
   "cell_type": "markdown",
   "metadata": {},
   "source": [
    "### Vertical Motion"
   ]
  },
  {
   "cell_type": "code",
   "execution_count": null,
   "metadata": {},
   "outputs": [],
   "source": [
    "vname  ='wa_inter'\n",
    "dset[vname] = dset['wa'].interp(height_2_2 = dset.height_2)\n",
    "\n",
    "dset[vname] = 1e2 * dset[vname]\n",
    "dset[vname].attrs.update( dict( units = 'cm s-1') )\n"
   ]
  },
  {
   "cell_type": "code",
   "execution_count": null,
   "metadata": {
    "scrolled": true
   },
   "outputs": [],
   "source": [
    "vname = 'wa_inter'\n",
    "\n",
    "\n",
    "plot_profile( vname, scale = 1.)\n",
    "a = plt.gca()\n",
    "a.set_xlabel('$\\Delta$ w / (m/s)', labelpad = 10)\n",
    "#a.set_xlim(-5, 5)\n",
    "\n",
    "a2 = plt.gca( ).twiny()\n",
    "plot_profile( vname, ax = a2, method = 'ref')\n",
    "a2.set_xlabel('Vertical Velocity / (m/s)', labelpad = 20, fontweight = 'bold' )\n",
    "\n",
    "sns.despine(top = False)"
   ]
  },
  {
   "cell_type": "markdown",
   "metadata": {},
   "source": [
    "### Liquid Water Content"
   ]
  },
  {
   "cell_type": "code",
   "execution_count": null,
   "metadata": {},
   "outputs": [],
   "source": [
    "dset['clw'] = 1e3 * dset['clw']\n",
    "dset['clw'].attrs.update( dict( units = 'g kg-1') )"
   ]
  },
  {
   "cell_type": "code",
   "execution_count": null,
   "metadata": {
    "scrolled": false
   },
   "outputs": [],
   "source": [
    "vname = 'clw'\n",
    "\n",
    "\n",
    "plot_profile( vname, scale = 1.)\n",
    "a = plt.gca()\n",
    "a.set_xlabel('$\\Delta q_c$ / (g/kg)', labelpad = 10)\n",
    "#a.set_xlim(-5, 5)\n",
    "\n",
    "a2 = plt.gca( ).twiny()\n",
    "plot_profile( vname, ax = a2, method = 'ref')\n",
    "a2.set_xlabel('Liquid Water Content / (g/kg)', labelpad = 20, fontweight = 'bold' )\n",
    "\n",
    "sns.despine(top = False)"
   ]
  },
  {
   "cell_type": "markdown",
   "metadata": {},
   "source": [
    "### Ice Water Content"
   ]
  },
  {
   "cell_type": "code",
   "execution_count": null,
   "metadata": {
    "scrolled": false
   },
   "outputs": [],
   "source": [
    "vname = 'cli'\n",
    "\n",
    "\n",
    "plot_profile( vname, scale = 1e6 )\n",
    "a = plt.gca()\n",
    "a.set_xlabel('$\\Delta q_i$ / ($10^{-6}$ kg/kg)', labelpad = 10)\n",
    "#a.set_xlim(-5, 5)\n",
    "\n",
    "a2 = plt.gca( ).twiny()\n",
    "plot_profile( vname, ax = a2, method = 'ref', scale = 1e6)\n",
    "a2.set_xlabel('Ice Water Content / ($10^{-6}$ kg/kg)', labelpad = 20, fontweight = 'bold' )\n",
    "\n",
    "sns.despine(top = False)"
   ]
  }
 ],
 "metadata": {
  "kernelspec": {
   "display_name": "Python 3.7 Local Env",
   "language": "python",
   "name": "python3.7-local"
  },
  "language_info": {
   "codemirror_mode": {
    "name": "ipython",
    "version": 3
   },
   "file_extension": ".py",
   "mimetype": "text/x-python",
   "name": "python",
   "nbconvert_exporter": "python",
   "pygments_lexer": "ipython3",
   "version": "3.7.8"
  }
 },
 "nbformat": 4,
 "nbformat_minor": 2
}
